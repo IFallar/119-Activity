{
  "cells": [
    {
      "cell_type": "markdown",
      "id": "G8krtfu4UUgY",
      "metadata": {
        "id": "G8krtfu4UUgY"
      },
      "source": [
        "#Shane Ivan Fallar\n",
        "IT - 119 | BSIT-3C"
      ]
    },
    {
      "cell_type": "markdown",
      "id": "4a86a028-631e-43c2-9fd0-8f91f275614c",
      "metadata": {
        "id": "4a86a028-631e-43c2-9fd0-8f91f275614c"
      },
      "source": [
        "#Machine Problem 1\n"
      ]
    },
    {
      "cell_type": "code",
      "execution_count": 1,
      "id": "368fdeb2-bac8-4558-9f25-bfca7a07b409",
      "metadata": {
        "id": "368fdeb2-bac8-4558-9f25-bfca7a07b409"
      },
      "outputs": [],
      "source": [
        "import os\n",
        "import pandas as pd\n",
        "import researchpy as rp"
      ]
    },
    {
      "cell_type": "code",
      "execution_count": 2,
      "id": "819b0657-94c9-40f0-916b-7196c13c8feb",
      "metadata": {
        "colab": {
          "base_uri": "https://localhost:8080/",
          "height": 35
        },
        "id": "819b0657-94c9-40f0-916b-7196c13c8feb",
        "outputId": "f6372fde-4502-43d4-ff9a-bae6806797b1"
      },
      "outputs": [
        {
          "data": {
            "text/plain": [
              "'c:\\\\Users\\\\Shane Ivan Fallar\\\\Documents\\\\Coding Stuff\\\\Python\\\\119 Activity'"
            ]
          },
          "execution_count": 2,
          "metadata": {},
          "output_type": "execute_result"
        }
      ],
      "source": [
        "# Checking out the current working directory\n",
        "os.getcwd() "
      ]
    },
    {
      "cell_type": "markdown",
      "id": "28e93932-48a9-46a9-a3ae-45a481841a22",
      "metadata": {
        "id": "28e93932-48a9-46a9-a3ae-45a481841a22"
      },
      "source": [
        "## Loading \"ExperimentTwo.xlsx\""
      ]
    },
    {
      "cell_type": "code",
      "execution_count": 5,
      "id": "b668663d-37cd-46cb-b092-52a95b0879c9",
      "metadata": {
        "colab": {
          "base_uri": "https://localhost:8080/",
          "height": 424
        },
        "id": "b668663d-37cd-46cb-b092-52a95b0879c9",
        "outputId": "665da5a4-08bb-4ac3-80c6-caaf1a5cd18e"
      },
      "outputs": [
        {
          "name": "stdout",
          "output_type": "stream",
          "text": [
            "Shane Ivan Fallar\n"
          ]
        },
        {
          "data": {
            "text/html": [
              "<div>\n",
              "<style scoped>\n",
              "    .dataframe tbody tr th:only-of-type {\n",
              "        vertical-align: middle;\n",
              "    }\n",
              "\n",
              "    .dataframe tbody tr th {\n",
              "        vertical-align: top;\n",
              "    }\n",
              "\n",
              "    .dataframe thead th {\n",
              "        text-align: right;\n",
              "    }\n",
              "</style>\n",
              "<table border=\"1\" class=\"dataframe\">\n",
              "  <thead>\n",
              "    <tr style=\"text-align: right;\">\n",
              "      <th></th>\n",
              "      <th>ID</th>\n",
              "      <th>Pre</th>\n",
              "      <th>Group</th>\n",
              "    </tr>\n",
              "  </thead>\n",
              "  <tbody>\n",
              "    <tr>\n",
              "      <th>0</th>\n",
              "      <td>1</td>\n",
              "      <td>2.03</td>\n",
              "      <td>Cntrl</td>\n",
              "    </tr>\n",
              "    <tr>\n",
              "      <th>1</th>\n",
              "      <td>2</td>\n",
              "      <td>4.02</td>\n",
              "      <td>Cntrl</td>\n",
              "    </tr>\n",
              "    <tr>\n",
              "      <th>2</th>\n",
              "      <td>3</td>\n",
              "      <td>14.34</td>\n",
              "      <td>Cntrl</td>\n",
              "    </tr>\n",
              "    <tr>\n",
              "      <th>3</th>\n",
              "      <td>4</td>\n",
              "      <td>15.55</td>\n",
              "      <td>Cntrl</td>\n",
              "    </tr>\n",
              "    <tr>\n",
              "      <th>4</th>\n",
              "      <td>5</td>\n",
              "      <td>2.05</td>\n",
              "      <td>Cntrl</td>\n",
              "    </tr>\n",
              "    <tr>\n",
              "      <th>...</th>\n",
              "      <td>...</td>\n",
              "      <td>...</td>\n",
              "      <td>...</td>\n",
              "    </tr>\n",
              "    <tr>\n",
              "      <th>69</th>\n",
              "      <td>70</td>\n",
              "      <td>8.95</td>\n",
              "      <td>Tx</td>\n",
              "    </tr>\n",
              "    <tr>\n",
              "      <th>70</th>\n",
              "      <td>71</td>\n",
              "      <td>8.34</td>\n",
              "      <td>Tx</td>\n",
              "    </tr>\n",
              "    <tr>\n",
              "      <th>71</th>\n",
              "      <td>72</td>\n",
              "      <td>7.52</td>\n",
              "      <td>Tx</td>\n",
              "    </tr>\n",
              "    <tr>\n",
              "      <th>72</th>\n",
              "      <td>73</td>\n",
              "      <td>5.21</td>\n",
              "      <td>Tx</td>\n",
              "    </tr>\n",
              "    <tr>\n",
              "      <th>73</th>\n",
              "      <td>74</td>\n",
              "      <td>3.73</td>\n",
              "      <td>Tx</td>\n",
              "    </tr>\n",
              "  </tbody>\n",
              "</table>\n",
              "<p>74 rows × 3 columns</p>\n",
              "</div>"
            ],
            "text/plain": [
              "    ID    Pre  Group\n",
              "0    1   2.03  Cntrl\n",
              "1    2   4.02  Cntrl\n",
              "2    3  14.34  Cntrl\n",
              "3    4  15.55  Cntrl\n",
              "4    5   2.05  Cntrl\n",
              "..  ..    ...    ...\n",
              "69  70   8.95     Tx\n",
              "70  71   8.34     Tx\n",
              "71  72   7.52     Tx\n",
              "72  73   5.21     Tx\n",
              "73  74   3.73     Tx\n",
              "\n",
              "[74 rows x 3 columns]"
            ]
          },
          "execution_count": 5,
          "metadata": {},
          "output_type": "execute_result"
        }
      ],
      "source": [
        "#Ope \"ExperimentTwo.xlsx\"\n",
        "df = pd.read_excel(\"ExperimentTwo.xlsx\")\n",
        "# \n",
        "#Viewing the dataframe\n",
        "print(\"Shane Ivan Fallar\")\n",
        "df"
      ]
    },
    {
      "cell_type": "code",
      "execution_count": null,
      "id": "0df1e0cb-3ee7-45ec-ac3b-355f09817e0f",
      "metadata": {
        "colab": {
          "base_uri": "https://localhost:8080/",
          "height": 269
        },
        "id": "0df1e0cb-3ee7-45ec-ac3b-355f09817e0f",
        "outputId": "253e59a9-1ac1-43dc-aa37-ea9b9b3463f7"
      },
      "outputs": [],
      "source": [
        "# Viewing the first 7 rows\n",
        "print(\"Shane Ivan Fallar\")\n",
        "df.head(7)"
      ]
    },
    {
      "cell_type": "code",
      "execution_count": null,
      "id": "1f1bef51-cb7d-4cd5-8567-3564814f0d09",
      "metadata": {
        "colab": {
          "base_uri": "https://localhost:8080/",
          "height": 269
        },
        "id": "1f1bef51-cb7d-4cd5-8567-3564814f0d09",
        "outputId": "26d1ac34-8a2d-4178-d53e-4161f34274ed"
      },
      "outputs": [],
      "source": [
        "# Viewing the last 7 rows\n",
        "print(\"Shane Ivan Fallar\")\n",
        "df.tail(7)"
      ]
    },
    {
      "cell_type": "markdown",
      "id": "68d475a6-1e1d-4b87-b78c-8def36a08d52",
      "metadata": {
        "id": "68d475a6-1e1d-4b87-b78c-8def36a08d52"
      },
      "source": [
        "## Slicing the dataframe"
      ]
    },
    {
      "cell_type": "code",
      "execution_count": null,
      "id": "bb4b22b7-63e3-4114-bbb0-c7c0141f3859",
      "metadata": {
        "colab": {
          "base_uri": "https://localhost:8080/"
        },
        "id": "bb4b22b7-63e3-4114-bbb0-c7c0141f3859",
        "outputId": "29cc7209-fc94-48fd-a4dd-a0d0654f8762"
      },
      "outputs": [],
      "source": [
        "#Slice the second column with all of its observations\n",
        "print(\"Shane Ivan Fallar\")\n",
        "df.iloc[:, 1]"
      ]
    },
    {
      "cell_type": "code",
      "execution_count": null,
      "id": "839ca9e9-955e-4d23-bc33-59dc35531f84",
      "metadata": {
        "colab": {
          "base_uri": "https://localhost:8080/",
          "height": 551
        },
        "id": "839ca9e9-955e-4d23-bc33-59dc35531f84",
        "outputId": "7c2a9704-4519-484c-e573-a79410bf9755"
      },
      "outputs": [],
      "source": [
        "#Slice the data frame to only include observations ID of 5 to 20\n",
        "print(\"Shane Ivan Fallar\")\n",
        "df.iloc[4:20, :]"
      ]
    },
    {
      "cell_type": "code",
      "execution_count": null,
      "id": "c6b0f073-c2f4-44cb-bede-de313182f4a4",
      "metadata": {
        "colab": {
          "base_uri": "https://localhost:8080/",
          "height": 645
        },
        "id": "c6b0f073-c2f4-44cb-bede-de313182f4a4",
        "outputId": "72f1b204-22a1-4c03-e114-273c9520a5d4"
      },
      "outputs": [],
      "source": [
        "#Slice the data frame to only include column ID and pretest with observation ID 7 to 25\n",
        "print(\"Shane Ivan Fallar\")\n",
        "df.iloc[6:25,:2]"
      ]
    },
    {
      "cell_type": "code",
      "execution_count": null,
      "id": "156a8d37-a45a-4b5d-90c1-e11dc03519ac",
      "metadata": {
        "colab": {
          "base_uri": "https://localhost:8080/"
        },
        "id": "156a8d37-a45a-4b5d-90c1-e11dc03519ac",
        "outputId": "cf947719-1c9c-4dad-98ff-0b5c6fdd0e64"
      },
      "outputs": [],
      "source": [
        "#Checking the structure of the dataframe\n",
        "print(\"Shane Ivan Fallar\")\n",
        "df.info()"
      ]
    },
    {
      "cell_type": "code",
      "execution_count": null,
      "id": "11d889ec-18eb-42d2-b820-89171bd5452e",
      "metadata": {
        "colab": {
          "base_uri": "https://localhost:8080/"
        },
        "id": "11d889ec-18eb-42d2-b820-89171bd5452e",
        "outputId": "8e6bb8d1-e944-4c29-9533-8c833aea6cee"
      },
      "outputs": [],
      "source": [
        "#Checking for NAs or missing cases\n",
        "print(\"Shane Ivan Fallar\")\n",
        "df.isnull().values.any()"
      ]
    },
    {
      "cell_type": "code",
      "execution_count": null,
      "id": "40d58ff6-17ce-49e2-8118-3cea80eb2e16",
      "metadata": {
        "colab": {
          "base_uri": "https://localhost:8080/"
        },
        "id": "40d58ff6-17ce-49e2-8118-3cea80eb2e16",
        "outputId": "5aeb1ae8-730f-4c6f-dc63-0e201485dfdf"
      },
      "outputs": [],
      "source": [
        "#Getting a simple descriptives\n",
        "print(\"Shane Ivan Fallar\")\n",
        "df.iloc[:,1].describe()"
      ]
    },
    {
      "cell_type": "markdown",
      "id": "c8e5e160",
      "metadata": {
        "id": "c8e5e160"
      },
      "source": [
        "# Machine Problem 2"
      ]
    },
    {
      "cell_type": "markdown",
      "id": "aTe4Nd0LVQFl",
      "metadata": {
        "id": "aTe4Nd0LVQFl"
      },
      "source": [
        "# Load \"sales.sav\"\n"
      ]
    },
    {
      "cell_type": "code",
      "execution_count": null,
      "id": "7cee8774",
      "metadata": {
        "id": "7cee8774"
      },
      "outputs": [],
      "source": [
        "#Loading .Sav file and assigning it to a variable\n",
        "#Open and work on \"sales.sav\"\n",
        "print(\"Shane Ivan Fallar\")\n",
        "df = pd.read_spss(\"sales.sav\")"
      ]
    },
    {
      "cell_type": "markdown",
      "id": "9BZ2kEJAVdnu",
      "metadata": {
        "id": "9BZ2kEJAVdnu"
      },
      "source": [
        "#View and work the Data"
      ]
    },
    {
      "cell_type": "code",
      "execution_count": null,
      "id": "15b42c22",
      "metadata": {
        "colab": {
          "base_uri": "https://localhost:8080/",
          "height": 887
        },
        "id": "15b42c22",
        "outputId": "6ddb5944-207f-457e-e9f8-6aec88ae512e"
      },
      "outputs": [],
      "source": [
        "#Viewing the dataframe\n",
        "df"
      ]
    },
    {
      "cell_type": "code",
      "execution_count": null,
      "id": "95c86984",
      "metadata": {
        "colab": {
          "base_uri": "https://localhost:8080/",
          "height": 1000
        },
        "id": "95c86984",
        "outputId": "7e3bb764-325b-4adf-b417-2bf0e9f110cc"
      },
      "outputs": [],
      "source": [
        "# Viewing the first 15 rows\n",
        "print(\"Shane Ivan Fallar\")\n",
        "df.head(15)"
      ]
    },
    {
      "cell_type": "code",
      "execution_count": null,
      "id": "87b9df55",
      "metadata": {
        "colab": {
          "base_uri": "https://localhost:8080/",
          "height": 1000
        },
        "id": "87b9df55",
        "outputId": "06d115fc-ed7d-4755-9a19-fd95540e1382"
      },
      "outputs": [],
      "source": [
        "# Viewing the last 15 rows\n",
        "print(\"Shane Ivan Fallar\")\n",
        "df.tail(15)"
      ]
    },
    {
      "cell_type": "code",
      "execution_count": null,
      "id": "7f70d23f",
      "metadata": {
        "colab": {
          "base_uri": "https://localhost:8080/"
        },
        "id": "7f70d23f",
        "outputId": "73f5caa4-3f54-40da-b8d7-ba62508de81b"
      },
      "outputs": [],
      "source": [
        "#Checking the structure of the dataframe\n",
        "print(\"Shane Ivan Fallar\")\n",
        "df.info()"
      ]
    },
    {
      "cell_type": "code",
      "execution_count": null,
      "id": "1092248a",
      "metadata": {
        "colab": {
          "base_uri": "https://localhost:8080/",
          "height": 424
        },
        "id": "1092248a",
        "outputId": "58077f0e-fd3e-4da0-ed78-180737a5ec32"
      },
      "outputs": [],
      "source": [
        "#Slicing the dataframe\n",
        "#Slice column to include 'hiqualty', 'satinfo', 'salesrep' with all of its observations\n",
        "print(\"Shane Ivan Fallar\")\n",
        "df.loc[:, ['hiqualty', 'satinfo', 'salesrep']]"
      ]
    },
    {
      "cell_type": "code",
      "execution_count": null,
      "id": "45029584",
      "metadata": {
        "colab": {
          "base_uri": "https://localhost:8080/",
          "height": 1000
        },
        "id": "45029584",
        "outputId": "bddfbf7a-eb51-400b-d990-8f8666640256"
      },
      "outputs": [],
      "source": [
        "#Slice the data frame to only include observations index of 15 to 35\n",
        "print(\"Shane Ivan Fallar\")\n",
        "df.iloc[15:36]"
      ]
    },
    {
      "cell_type": "code",
      "execution_count": null,
      "id": "803497c3",
      "metadata": {
        "id": "803497c3"
      },
      "outputs": [],
      "source": [
        "#Change the column named 'hiqualty' to 'hiquality'\n",
        "print(\"Shane Ivan Fallar\")\n",
        "df = df.rename(columns={'hiqualty': 'hiquality'})"
      ]
    },
    {
      "cell_type": "code",
      "execution_count": null,
      "id": "b60eca04",
      "metadata": {
        "colab": {
          "base_uri": "https://localhost:8080/"
        },
        "id": "b60eca04",
        "outputId": "dac5fbcf-66d3-4f2b-d222-1c743b6a6c53"
      },
      "outputs": [],
      "source": [
        "#Checking for NAs or missing cases\n",
        "print(\"Shane Ivan Fallar\")\n",
        "df.isnull().values.any()"
      ]
    },
    {
      "cell_type": "code",
      "execution_count": null,
      "id": "21c8d302",
      "metadata": {
        "colab": {
          "base_uri": "https://localhost:8080/",
          "height": 887
        },
        "id": "21c8d302",
        "outputId": "3302d289-1dfd-435e-f7fe-d788ac837a3c"
      },
      "outputs": [],
      "source": [
        "#Subset dataframe to include all rows with missing cases\n",
        "print(\"Shane Ivan Fallar\")\n",
        "missing_df= df[df.isnull().any(axis=1)]\n",
        "missing_df"
      ]
    },
    {
      "cell_type": "code",
      "execution_count": null,
      "id": "3c590af8",
      "metadata": {
        "colab": {
          "base_uri": "https://localhost:8080/",
          "height": 1000
        },
        "id": "3c590af8",
        "outputId": "a7fa40f7-d8fe-49cc-eb88-9b18df4b74b6"
      },
      "outputs": [],
      "source": [
        "#Subset dataframe to include all rows with complete cases\n",
        "print(\"Shane Ivan Fallar\")\n",
        "complete_df= df[df.notnull().all(axis=1)]\n",
        "complete_df"
      ]
    },
    {
      "cell_type": "code",
      "execution_count": null,
      "id": "a4dc2421",
      "metadata": {
        "colab": {
          "base_uri": "https://localhost:8080/",
          "height": 300
        },
        "id": "a4dc2421",
        "outputId": "0b9d44d8-d10a-420b-fde4-fdfac2b9f346"
      },
      "outputs": [],
      "source": [
        "#Getting a simple descriptives\n",
        "print(\"Shane Ivan Fallar\")\n",
        "df.describe()"
      ]
    },
    {
      "cell_type": "code",
      "execution_count": null,
      "id": "b89438e0",
      "metadata": {
        "colab": {
          "base_uri": "https://localhost:8080/",
          "height": 320
        },
        "id": "b89438e0",
        "outputId": "6894e425-39d1-401c-a11d-e9080513b98d"
      },
      "outputs": [],
      "source": [
        "print(\"Shane Ivan Fallar\")\n",
        "df.astype('object').describe()"
      ]
    }
  ],
  "metadata": {
    "colab": {
      "collapsed_sections": [],
      "provenance": []
    },
    "kernelspec": {
      "display_name": "Python 3.11.0 64-bit",
      "language": "python",
      "name": "python3"
    },
    "language_info": {
      "codemirror_mode": {
        "name": "ipython",
        "version": 3
      },
      "file_extension": ".py",
      "mimetype": "text/x-python",
      "name": "python",
      "nbconvert_exporter": "python",
      "pygments_lexer": "ipython3",
      "version": "3.11.0"
    },
    "vscode": {
      "interpreter": {
        "hash": "6b8a0235a3d5b58b323e51cbd0b20fccace6b2e7783f4071ee626f6200e12fdb"
      }
    }
  },
  "nbformat": 4,
  "nbformat_minor": 5
}
